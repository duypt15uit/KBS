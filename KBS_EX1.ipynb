{
  "nbformat": 4,
  "nbformat_minor": 0,
  "metadata": {
    "colab": {
      "name": "KBS_EX1",
      "provenance": [],
      "collapsed_sections": [],
      "mount_file_id": "1SgslJ4vwQBCwB9Uw6z72Ye07aF6KpqgK",
      "authorship_tag": "ABX9TyOE8Nfk5CuJ2CZkOTLSMZui",
      "include_colab_link": true
    },
    "kernelspec": {
      "name": "python3",
      "display_name": "Python 3"
    }
  },
  "cells": [
    {
      "cell_type": "markdown",
      "metadata": {
        "id": "view-in-github",
        "colab_type": "text"
      },
      "source": [
        "<a href=\"https://colab.research.google.com/github/duypt15uit/KBS/blob/master/KBS_EX1.ipynb\" target=\"_parent\"><img src=\"https://colab.research.google.com/assets/colab-badge.svg\" alt=\"Open In Colab\"/></a>"
      ]
    },
    {
      "cell_type": "code",
      "metadata": {
        "id": "7I-jMsvOrcDL",
        "outputId": "2ca0b6e2-d1b7-4dd1-c607-d70ba45ad184",
        "colab": {
          "base_uri": "https://localhost:8080/",
          "height": 176
        }
      },
      "source": [
        "!pip install Equation"
      ],
      "execution_count": null,
      "outputs": [
        {
          "output_type": "stream",
          "text": [
            "Collecting Equation\n",
            "  Downloading https://files.pythonhosted.org/packages/fd/0d/ede829e7c0c457b651de2792cd19a739e4885477f59832da54d2cc7a1982/Equation-1.2.01.tar.gz\n",
            "Building wheels for collected packages: Equation\n",
            "  Building wheel for Equation (setup.py) ... \u001b[?25l\u001b[?25hdone\n",
            "  Created wheel for Equation: filename=Equation-1.2.1-cp36-none-any.whl size=16244 sha256=471f17696c13984bfc31f32b84f04a7a3887da6d62975316e3d249277db08ea7\n",
            "  Stored in directory: /root/.cache/pip/wheels/d4/b1/02/1ba0b04c7a231cd681f6f885927f41170fea59c42303ac9626\n",
            "Successfully built Equation\n",
            "Installing collected packages: Equation\n",
            "Successfully installed Equation-1.2.1\n"
          ],
          "name": "stdout"
        }
      ]
    },
    {
      "cell_type": "code",
      "metadata": {
        "id": "azdNebtGEDd3",
        "outputId": "db57f0a0-ac4b-4d81-83a6-a46f49767cfc",
        "colab": {
          "base_uri": "https://localhost:8080/",
          "height": 34
        }
      },
      "source": [
        "#Load Data\n",
        "import math\n",
        "from Equation import Expression\n",
        "#Declare class Rule\n",
        "class BaseRule:\n",
        "  pass\n",
        "class Rule(BaseRule):\n",
        "  def __init__(self, src, dest,cal):\n",
        "    self.source = src\n",
        "    self.destination = dest\n",
        "    self.calculation = cal\n",
        "  def toString():\n",
        "    return self.source + \"=>\" + self.destination\n",
        "def calculate(exp, args):#Use Equation to parse string expression to math then calculate\n",
        "  return exp(*args)\n",
        "def getparamValues(input, param):# get \n",
        "  ls_value = []\n",
        "  for p in param:\n",
        "    ls_value.append(input[p])\n",
        "  return ls_value\n",
        "\n",
        "# Read data\n",
        "VARS = ['A','B','C','a','b','c','S','R']\n",
        "r = Rule({'a','b','C'},'S',\"a*b*sin(C)/2\")\n",
        "r1 = Rule({'a','b','C','S'},'R',\"a*b*c/(4*S)\")\n",
        "\n",
        "_Ls_Rules = []\n",
        "_Ls_Rules.append(r)\n",
        "_Ls_Rules.append(r1)\n",
        "#End Read data\n",
        "\n",
        "#Read GT,KL\n",
        "GT = {'a':3,'b':4,'C':math.pi/6}\n",
        "KL = 'R'\n",
        "#End Read GT,KL\n",
        "\n",
        "#Algorithm Reasoning\n",
        "set_GT = set(GT.keys())\n",
        "Sol = []\n",
        "hasSolution = True\n",
        "step = 1\n",
        "while KL not in set_GT:\n",
        "  selectRule = None\n",
        "  for rule in _Ls_Rules:\n",
        "    if rule.destination not in set_GT and (rule.source & set_GT) == rule.source:\n",
        "      selectRule = rule\n",
        "      break\n",
        "  if selectRule == None:\n",
        "    break\n",
        "  else:\n",
        "    fn = Expression(selectRule.calculation,list(selectRule.source))\n",
        "    value = calculate(fn,getparamValues(GT,selectRule.source))\n",
        "    s = \"Step \" +str(step)+\": \"+ str(selectRule.destination) + \" = \" + str(selectRule.calculation) + \" = \" + str(value)\n",
        "    Sol.append(s)\n",
        "    GT[selectRule.destination] = value\n",
        "    set_GT = set(GT.keys())\n",
        "    step += 1\n",
        "if selectRule:\n",
        "  print(\"Solution is:\")\n",
        "  for s in Sol:\n",
        "    print(s)\n",
        "else:\n",
        "  print(\"Can't solve this problem\")\n",
        "# End Algorithm Reasoning\n",
        "\n",
        "\n",
        "\n",
        "# _DIR = \"/content/drive/My Drive/COLAB/KBS/EX1\"\n",
        "# file_facts = open(_DIR+'/facts.txt', mode = 'r', encoding = 'utf-8-sig')\n",
        "# lines = file_facts.readlines()\n",
        "# FACTS = []\n",
        "# for line in lines:\n",
        "#     if line == 'Begin\\n' or line == 'End':\n",
        "#       continue\n",
        "#     line = line.strip()\n",
        "#     index_seperate = line.index(':')\n",
        "#     FACTS.append(line[0:index_seperate])\n",
        "# file_facts.close()\n",
        "# file_rules = open(_DIR+'/rules.txt', mode = 'r', encoding = 'utf-8-sig')\n",
        "# lines = file_rules.readlines()\n",
        "# RULES = []\n",
        "# for line in lines:\n",
        "#     if line == 'Begin\\n' or line == 'End':\n",
        "#       continue\n",
        "#     line = line.strip()\n",
        "#     str_src = line[line.index(\"{\"):line.index(\"}\")]\n",
        "#     src = [i for i in str_src.split(\",\")]\n",
        "\n",
        "# file_rules.close()\n",
        "  "
      ],
      "execution_count": null,
      "outputs": [
        {
          "output_type": "stream",
          "text": [
            "Can't solve this problem\n"
          ],
          "name": "stdout"
        }
      ]
    }
  ]
}